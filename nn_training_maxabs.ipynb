{
 "cells": [
  {
   "cell_type": "code",
   "execution_count": 1,
   "metadata": {},
   "outputs": [],
   "source": [
    "import pandas as pd\n",
    "import numpy as np\n",
    "import matplotlib.pyplot as plt\n",
    "%matplotlib inline\n",
    "import pickle\n",
    "\n",
    "# For scaling, feature selection\n",
    "from sklearn.preprocessing import MinMaxScaler\n",
    "from sklearn.preprocessing import StandardScaler, MaxAbsScaler\n",
    "from sklearn.feature_selection import SelectKBest, f_regression\n",
    "from sklearn.model_selection import train_test_split \n",
    "from sklearn.metrics import mean_squared_error\n",
    "\n",
    "# NN\n",
    "from tensorflow.keras.layers import Input, Dense\n",
    "from tensorflow.keras.models import Model\n",
    "\n",
    "from tools.pid import PID\n",
    "from tools.motor import DC_Motor as Motor\n",
    "import math\n",
    "import matplotlib.pyplot as plt"
   ]
  },
  {
   "cell_type": "markdown",
   "metadata": {},
   "source": [
    "## Generte Data"
   ]
  },
  {
   "cell_type": "code",
   "execution_count": 2,
   "metadata": {},
   "outputs": [],
   "source": [
    "# target\n",
    "import json\n",
    "with open('data.json') as json_file:\n",
    "    data = json.load(json_file)\n",
    "    \n",
    "motor = Motor()\n",
    "pid = PID(10, 0.1, 0.3)\n",
    "\n",
    "xData = []\n",
    "xTarget = []\n",
    "yData = []\n",
    "xTime = []\n",
    "xResponse = []\n",
    "\n",
    "# Create data\n",
    "steps = data['target']\n",
    "time = 0\n",
    "for i in range(len(steps)):\n",
    "    target = steps[i]\n",
    "    targetR = target * math.pi / 180\n",
    "    \n",
    "    for millisecond in range(1000):\n",
    "        time += 1\n",
    "        inputData = []\n",
    "        outputData = []\n",
    "        \n",
    "        # get the angle of the motor\n",
    "        theta = motor.getRad()\n",
    "        \n",
    "        # log input data\n",
    "        inputData += [targetR - theta]\n",
    "        inputData += [pid.get_pre_error()]\n",
    "        inputData += [pid.get_error_sum()]\n",
    "        \n",
    "        # update pid\n",
    "        controlSignal = pid.update(targetR - theta)\n",
    "        \n",
    "        # update motor\n",
    "        motor.update(controlSignal)\n",
    "        \n",
    "        # log output data\n",
    "        outputData += [controlSignal]\n",
    "        outputData += [pid.get_pre_error()]\n",
    "        outputData += [pid.get_error_sum()]\n",
    "        \n",
    "        xTarget += [targetR]\n",
    "        xTime += [time / 1000]\n",
    "        xData += [inputData]\n",
    "        yData += [outputData]\n",
    "        xResponse += [theta]"
   ]
  },
  {
   "cell_type": "markdown",
   "metadata": {},
   "source": [
    "## Response"
   ]
  },
  {
   "cell_type": "code",
   "execution_count": 3,
   "metadata": {},
   "outputs": [
    {
     "data": {
      "image/png": "[encoded data removed]",
      "text/plain": [
       "<Figure size 432x288 with 1 Axes>"
      ]
     },
     "metadata": {
      "needs_background": "light"
     },
     "output_type": "display_data"
    }
   ],
   "source": [
    "# draw graph\n",
    "plt.plot(xTime, xTarget, color='r', label='target')\n",
    "plt.plot(xTime, xResponse, color='b', label='response')\n",
    "plt.xlim(0, 10)\n",
    "plt.title('step response')\n",
    "plt.ylabel('degree')\n",
    "plt.xlabel('time (second)')\n",
    "plt.show()"
   ]
  },
  {
   "cell_type": "markdown",
   "metadata": {},
   "source": [
    "## Normailze Data"
   ]
  },
  {
   "cell_type": "code",
   "execution_count": 4,
   "metadata": {},
   "outputs": [],
   "source": [
    "#scalar_x = StandardScaler()\n",
    "#scalar_y = StandardScaler()\n",
    "scalar_x = MaxAbsScaler()\n",
    "scalar_y = MaxAbsScaler()\n",
    "x = scalar_x.fit_transform(xData)\n",
    "y = scalar_y.fit_transform(yData)"
   ]
  },
  {
   "cell_type": "code",
   "execution_count": 5,
   "metadata": {},
   "outputs": [
    {
     "data": {
      "text/plain": [
       "array([[ 8.05143864e-01,  0.00000000e+00,  0.00000000e+00],\n",
       "       [ 8.05124316e-01,  8.05143864e-01,  4.19620691e-03],\n",
       "       [ 8.05061072e-01,  8.05124316e-01,  8.39231194e-03],\n",
       "       ...,\n",
       "       [-7.42518375e-05, -7.13189302e-05,  1.09510808e-02],\n",
       "       [-7.71173621e-05, -7.42518375e-05,  1.09506938e-02],\n",
       "       [-7.99153454e-05, -7.71173621e-05,  1.09502919e-02]])"
      ]
     },
     "execution_count": 5,
     "metadata": {},
     "output_type": "execute_result"
    }
   ],
   "source": [
    "x"
   ]
  },
  {
   "cell_type": "code",
   "execution_count": 6,
   "metadata": {},
   "outputs": [],
   "source": [
    "# Split into train and test \n",
    "xTrain, xTest, yTrain, yTest = train_test_split(x, y, test_size=0.2, shuffle=True)\n",
    "xSize = len(xTrain[0])\n",
    "ySize = len(yTrain[0])"
   ]
  },
  {
   "cell_type": "markdown",
   "metadata": {},
   "source": [
    "## Model Architecture"
   ]
  },
  {
   "cell_type": "code",
   "execution_count": 7,
   "metadata": {},
   "outputs": [],
   "source": [
    "# two fully connective layer\n",
    "# parameters\n",
    "firstLayerSize = xSize * ySize\n",
    "secondLayerSize = xSize * ySize\n",
    "thirdLayerSize = xSize * ySize\n",
    "\n",
    "inputs = Input(shape=(xSize))\n",
    "layer1 = Dense(firstLayerSize, activation='tanh')(inputs)\n",
    "layer2 = Dense(secondLayerSize, activation='tanh')(layer1)\n",
    "layer3 = Dense(secondLayerSize, activation='tanh')(layer2)\n",
    "predictions = Dense(ySize, activation='tanh')(layer3)\n",
    "model = Model(inputs=inputs, outputs=predictions)\n",
    "model.compile(loss='mean_squared_error', optimizer='adam')"
   ]
  },
  {
   "cell_type": "code",
   "execution_count": 8,
   "metadata": {},
   "outputs": [
    {
     "name": "stdout",
     "output_type": "stream",
     "text": [
      "Epoch 1/50\n",
      "12500/12500 [==============================] - 11s 886us/step - loss: 3.1432e-04\n",
      "Epoch 2/50\n",
      "12500/12500 [==============================] - 11s 892us/step - loss: 2.7677e-05\n",
      "Epoch 3/50\n",
      "12500/12500 [==============================] - 11s 886us/step - loss: 2.5283e-05\n",
      "Epoch 4/50\n",
      "12500/12500 [==============================] - 11s 882us/step - loss: 2.3808e-05\n",
      "Epoch 5/50\n",
      "12500/12500 [==============================] - 11s 879us/step - loss: 2.1838e-05\n",
      "Epoch 6/50\n",
      "12500/12500 [==============================] - 11s 878us/step - loss: 2.0327e-05\n",
      "Epoch 7/50\n",
      "12500/12500 [==============================] - 11s 878us/step - loss: 2.0053e-05\n",
      "Epoch 8/50\n",
      "12500/12500 [==============================] - 11s 879us/step - loss: 1.9486e-05\n",
      "Epoch 9/50\n",
      "12500/12500 [==============================] - 11s 876us/step - loss: 1.8973e-05\n",
      "Epoch 10/50\n",
      "12500/12500 [==============================] - 11s 911us/step - loss: 1.8484e-05\n",
      "Epoch 11/50\n",
      "12500/12500 [==============================] - 11s 889us/step - loss: 1.7189e-05\n",
      "Epoch 12/50\n",
      "12500/12500 [==============================] - 11s 879us/step - loss: 1.5668e-05\n",
      "Epoch 13/50\n",
      "12500/12500 [==============================] - 11s 874us/step - loss: 1.3581e-05\n",
      "Epoch 14/50\n",
      "12500/12500 [==============================] - 11s 885us/step - loss: 1.2400e-05\n",
      "Epoch 15/50\n",
      "12500/12500 [==============================] - 11s 878us/step - loss: 1.2247e-05\n",
      "Epoch 16/50\n",
      "12500/12500 [==============================] - 11s 882us/step - loss: 1.1767e-05\n",
      "Epoch 17/50\n",
      "12500/12500 [==============================] - 11s 880us/step - loss: 1.1752e-05\n",
      "Epoch 18/50\n",
      "12500/12500 [==============================] - 11s 881us/step - loss: 1.1315e-05\n",
      "Epoch 19/50\n",
      "12500/12500 [==============================] - 11s 880us/step - loss: 1.1043e-05\n",
      "Epoch 20/50\n",
      "12500/12500 [==============================] - 11s 879us/step - loss: 1.0509e-05\n",
      "Epoch 21/50\n",
      "12500/12500 [==============================] - 11s 879us/step - loss: 1.0359e-05\n",
      "Epoch 22/50\n",
      "12500/12500 [==============================] - 11s 879us/step - loss: 1.0090e-05\n",
      "Epoch 23/50\n",
      "12500/12500 [==============================] - 11s 881us/step - loss: 1.0095e-05\n",
      "Epoch 24/50\n",
      "12500/12500 [==============================] - 11s 882us/step - loss: 9.7881e-06\n",
      "Epoch 25/50\n",
      "12500/12500 [==============================] - 11s 881us/step - loss: 9.1724e-06\n",
      "Epoch 26/50\n",
      "12500/12500 [==============================] - 11s 876us/step - loss: 8.9843e-06\n",
      "Epoch 27/50\n",
      "12500/12500 [==============================] - 11s 874us/step - loss: 7.9195e-06\n",
      "Epoch 28/50\n",
      "12500/12500 [==============================] - 11s 884us/step - loss: 8.2896e-06\n",
      "Epoch 29/50\n",
      "12500/12500 [==============================] - 11s 879us/step - loss: 7.6011e-06\n",
      "Epoch 30/50\n",
      "12500/12500 [==============================] - 11s 877us/step - loss: 7.4788e-06\n",
      "Epoch 31/50\n",
      "12500/12500 [==============================] - 11s 878us/step - loss: 7.4102e-06\n",
      "Epoch 32/50\n",
      "12500/12500 [==============================] - 11s 878us/step - loss: 7.2426e-06\n",
      "Epoch 33/50\n",
      "12500/12500 [==============================] - 11s 877us/step - loss: 7.4666e-06\n",
      "Epoch 34/50\n",
      "12500/12500 [==============================] - 11s 874us/step - loss: 7.0474e-06\n",
      "Epoch 35/50\n",
      "12500/12500 [==============================] - 11s 883us/step - loss: 6.9561e-06\n",
      "Epoch 36/50\n",
      "12500/12500 [==============================] - 11s 880us/step - loss: 7.0322e-06\n",
      "Epoch 37/50\n",
      "12500/12500 [==============================] - 11s 873us/step - loss: 6.9822e-06\n",
      "Epoch 38/50\n",
      "12500/12500 [==============================] - 11s 870us/step - loss: 6.7522e-06\n",
      "Epoch 39/50\n",
      "12500/12500 [==============================] - 11s 872us/step - loss: 7.0129e-06\n",
      "Epoch 40/50\n",
      "12500/12500 [==============================] - 11s 872us/step - loss: 6.5945e-06\n",
      "Epoch 41/50\n",
      "12500/12500 [==============================] - 11s 869us/step - loss: 6.4441e-06\n",
      "Epoch 42/50\n",
      "12500/12500 [==============================] - 11s 870us/step - loss: 6.5762e-06\n",
      "Epoch 43/50\n",
      "12500/12500 [==============================] - 11s 869us/step - loss: 5.9455e-06\n",
      "Epoch 44/50\n",
      "12500/12500 [==============================] - 11s 869us/step - loss: 5.8898e-06\n",
      "Epoch 45/50\n",
      "12500/12500 [==============================] - 11s 867us/step - loss: 5.5669e-06\n",
      "Epoch 46/50\n",
      "12500/12500 [==============================] - 11s 875us/step - loss: 5.3711e-06\n",
      "Epoch 47/50\n",
      "12500/12500 [==============================] - 11s 874us/step - loss: 5.0326e-06\n",
      "Epoch 48/50\n",
      "12500/12500 [==============================] - 11s 876us/step - loss: 5.1373e-06\n",
      "Epoch 49/50\n",
      "12500/12500 [==============================] - 11s 873us/step - loss: 5.1844e-06\n",
      "Epoch 50/50\n",
      "12500/12500 [==============================] - 11s 877us/step - loss: 4.8668e-06\n"
     ]
    }
   ],
   "source": [
    "model.fit(xTrain, yTrain, epochs=50)\n",
    "\n",
    "# save training model\n",
    "model.save('./model/pid_model_nn.h5')"
   ]
  },
  {
   "cell_type": "code",
   "execution_count": 9,
   "metadata": {},
   "outputs": [
    {
     "name": "stdout",
     "output_type": "stream",
     "text": [
      "var0 mean squared error: 2.8742843911995656e-06\n",
      "var1 mean squared error: 7.225830145294283e-06\n",
      "var2 mean squared error: 2.9508988995787267e-06\n"
     ]
    }
   ],
   "source": [
    "result = model.predict(xTest)\n",
    "for i in range(len(result[0])):\n",
    "    yt = yTest[:, i]\n",
    "    yt_ = result[:, i]\n",
    "    accuracy = mean_squared_error(yt, yt_)\n",
    "    print(f'var{i} mean squared error: {accuracy}')"
   ]
  },
  {
   "cell_type": "code",
   "execution_count": 10,
   "metadata": {},
   "outputs": [
    {
     "name": "stdout",
     "output_type": "stream",
     "text": [
      "0 1 2 3 4 5 6 7 8 9 "
     ]
    }
   ],
   "source": [
    "motor = Motor()\n",
    "# pid variables\n",
    "pid_pre_error = 0\n",
    "pid_error_sum = 0\n",
    "modelResponse = []\n",
    "xTimeLen = 10\n",
    "\n",
    "for i in range(xTimeLen):\n",
    "    target = steps[i]\n",
    "    targetR = target * math.pi / 180\n",
    "    print(f'{i} ', end='')\n",
    "    for millisecond in range(1000):\n",
    "        inputData = []\n",
    "        outputData = []\n",
    "        \n",
    "        # get the angle of the motor\n",
    "        theta = motor.getRad()\n",
    "        \n",
    "        # input data\n",
    "        inputData += [targetR - theta]\n",
    "        inputData += [pid_pre_error]\n",
    "        inputData += [pid_error_sum]\n",
    "        _input = [inputData]\n",
    "        _input = scalar_x.transform(_input)\n",
    "        \n",
    "        # pid model\n",
    "        modelOutputNorm = model.predict(_input)\n",
    "        modelOutput = scalar_y.inverse_transform(modelOutputNorm)\n",
    "        \n",
    "        # update model\n",
    "        motor.update(modelOutput[0][0])\n",
    "        pid_pre_error = modelOutput[0][1]\n",
    "        pid_error_sum = modelOutput[0][2]\n",
    "        \n",
    "        modelResponse += [theta]"
   ]
  },
  {
   "cell_type": "code",
   "execution_count": 11,
   "metadata": {},
   "outputs": [
    {
     "data": {
      "image/png": "[encoded data removed]",
      "text/plain": [
       "<Figure size 432x288 with 1 Axes>"
      ]
     },
     "metadata": {
      "needs_background": "light"
     },
     "output_type": "display_data"
    }
   ],
   "source": [
    "# draw graph\n",
    "mTime = xTimeLen * 1000\n",
    "plt.plot(xTime[: mTime], xTarget[: mTime], color='r', label='target')\n",
    "plt.plot(xTime[: mTime], xResponse[: mTime], color='b', label='pid response')\n",
    "plt.plot(xTime[: mTime], modelResponse[: mTime], color='g', label='model response')\n",
    "plt.xlim(0, xTimeLen)\n",
    "plt.title('step response')\n",
    "plt.ylabel('degree')\n",
    "plt.xlabel('time (second)')\n",
    "plt.show()"
   ]
  },
  {
   "cell_type": "code",
   "execution_count": 14,
   "metadata": {},
   "outputs": [],
   "source": [
    "fileName = './data/nn-MaxAbsScalar.csv'\n",
    "f = open(fileName, 'w')\n",
    "for i in range(mTime):\n",
    "    f.write(f'{xTime[i]}\\t{xTarget[i]}\\t{xResponse[i]}')"
   ]
  },
  {
   "cell_type": "code",
   "execution_count": 15,
   "metadata": {},
   "outputs": [],
   "source": [
    "model.save('./model/nn-MaxAbsScalar.h5')"
   ]
  }
 ],
 "metadata": {
  "kernelspec": {
   "display_name": "Python 3",
   "language": "python",
   "name": "python3"
  },
  "language_info": {
   "codemirror_mode": {
    "name": "ipython",
    "version": 3
   },
   "file_extension": ".py",
   "mimetype": "text/x-python",
   "name": "python",
   "nbconvert_exporter": "python",
   "pygments_lexer": "ipython3",
   "version": "3.8.10"
  }
 },
 "nbformat": 4,
 "nbformat_minor": 2
}
