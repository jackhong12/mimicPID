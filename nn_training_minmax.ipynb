{
 "cells": [
  {
   "cell_type": "code",
   "execution_count": 1,
   "metadata": {},
   "outputs": [],
   "source": [
    "import pandas as pd\n",
    "import numpy as np\n",
    "import matplotlib.pyplot as plt\n",
    "%matplotlib inline\n",
    "import pickle\n",
    "\n",
    "# For scaling, feature selection\n",
    "from sklearn.preprocessing import MinMaxScaler\n",
    "from sklearn.feature_selection import SelectKBest, f_regression\n",
    "from sklearn.model_selection import train_test_split \n",
    "from sklearn.metrics import mean_squared_error\n",
    "\n",
    "# NN\n",
    "from tensorflow.keras.layers import Input, Dense\n",
    "from tensorflow.keras.models import Model\n",
    "\n",
    "from tools.pid import PID\n",
    "from tools.motor import DC_Motor as Motor\n",
    "import math\n",
    "import matplotlib.pyplot as plt"
   ]
  },
  {
   "cell_type": "markdown",
   "metadata": {},
   "source": [
    "## Generte Data"
   ]
  },
  {
   "cell_type": "code",
   "execution_count": 2,
   "metadata": {},
   "outputs": [],
   "source": [
    "# target\n",
    "import json\n",
    "with open('data.json') as json_file:\n",
    "    data = json.load(json_file)\n",
    "    \n",
    "motor = Motor()\n",
    "pid = PID(10, 0.1, 0.3)\n",
    "\n",
    "xData = []\n",
    "xTarget = []\n",
    "yData = []\n",
    "xTime = []\n",
    "xResponse = []\n",
    "\n",
    "# Create data\n",
    "steps = data['target']\n",
    "time = 0\n",
    "for i in range(len(steps)):\n",
    "    target = steps[i]\n",
    "    targetR = target * math.pi / 180\n",
    "    \n",
    "    for millisecond in range(1000):\n",
    "        time += 1\n",
    "        inputData = []\n",
    "        outputData = []\n",
    "        \n",
    "        # get the angle of the motor\n",
    "        theta = motor.getRad()\n",
    "        \n",
    "        # log input data\n",
    "        inputData += [targetR - theta]\n",
    "        inputData += [pid.get_pre_error()]\n",
    "        inputData += [pid.get_error_sum()]\n",
    "        \n",
    "        # update pid\n",
    "        controlSignal = pid.update(targetR - theta)\n",
    "        \n",
    "        # update motor\n",
    "        motor.update(controlSignal)\n",
    "        \n",
    "        # log output data\n",
    "        outputData += [controlSignal]\n",
    "        outputData += [pid.get_pre_error()]\n",
    "        outputData += [pid.get_error_sum()]\n",
    "        \n",
    "        xTarget += [targetR]\n",
    "        xTime += [time / 1000]\n",
    "        xData += [inputData]\n",
    "        yData += [outputData]\n",
    "        xResponse += [theta]"
   ]
  },
  {
   "cell_type": "markdown",
   "metadata": {},
   "source": [
    "## Response"
   ]
  },
  {
   "cell_type": "code",
   "execution_count": 3,
   "metadata": {},
   "outputs": [
    {
     "data": {
      "image/png": "[encoded data removed]",
      "text/plain": [
       "<Figure size 432x288 with 1 Axes>"
      ]
     },
     "metadata": {
      "needs_background": "light"
     },
     "output_type": "display_data"
    }
   ],
   "source": [
    "# draw graph\n",
    "plt.plot(xTime, xTarget, color='r', label='target')\n",
    "plt.plot(xTime, xResponse, color='b', label='response')\n",
    "plt.xlim(0, 10)\n",
    "plt.title('step response')\n",
    "plt.ylabel('degree')\n",
    "plt.xlabel('time (second)')\n",
    "plt.show()"
   ]
  },
  {
   "cell_type": "markdown",
   "metadata": {},
   "source": [
    "## Normailze Data"
   ]
  },
  {
   "cell_type": "code",
   "execution_count": 4,
   "metadata": {},
   "outputs": [],
   "source": [
    "scalar_x = MinMaxScaler()\n",
    "scalar_y = MinMaxScaler()\n",
    "x = scalar_x.fit_transform(xData)\n",
    "y = scalar_y.fit_transform(yData)"
   ]
  },
  {
   "cell_type": "code",
   "execution_count": 5,
   "metadata": {},
   "outputs": [],
   "source": [
    "# Split into train and test \n",
    "xTrain, xTest, yTrain, yTest = train_test_split(x, y, test_size=0.2, shuffle=True)\n",
    "xSize = len(xTrain[0])\n",
    "ySize = len(yTrain[0])"
   ]
  },
  {
   "cell_type": "markdown",
   "metadata": {},
   "source": [
    "## Model Architecture"
   ]
  },
  {
   "cell_type": "code",
   "execution_count": 6,
   "metadata": {},
   "outputs": [],
   "source": [
    "# two fully connective layer\n",
    "# parameters\n",
    "firstLayerSize = xSize * ySize\n",
    "secondLayerSize = xSize * ySize\n",
    "thirdLayerSize = xSize * ySize\n",
    "\n",
    "inputs = Input(shape=(xSize))\n",
    "layer1 = Dense(firstLayerSize, activation='relu')(inputs)\n",
    "layer2 = Dense(secondLayerSize, activation='relu')(layer1)\n",
    "layer3 = Dense(secondLayerSize, activation='relu')(layer2)\n",
    "predictions = Dense(ySize, activation='relu')(layer3)\n",
    "model = Model(inputs=inputs, outputs=predictions)\n",
    "model.compile(loss='mean_squared_error', optimizer='adam')"
   ]
  },
  {
   "cell_type": "code",
   "execution_count": 7,
   "metadata": {},
   "outputs": [
    {
     "name": "stdout",
     "output_type": "stream",
     "text": [
      "Epoch 1/20\n",
      "12500/12500 [==============================] - 6s 452us/step - loss: 0.0057\n",
      "Epoch 2/20\n",
      "12500/12500 [==============================] - 6s 453us/step - loss: 4.7249e-07\n",
      "Epoch 3/20\n",
      "12500/12500 [==============================] - 6s 452us/step - loss: 4.1514e-07\n",
      "Epoch 4/20\n",
      "12500/12500 [==============================] - 6s 447us/step - loss: 3.9418e-07\n",
      "Epoch 5/20\n",
      "12500/12500 [==============================] - 6s 447us/step - loss: 3.8009e-07\n",
      "Epoch 6/20\n",
      "12500/12500 [==============================] - 6s 451us/step - loss: 3.5065e-07\n",
      "Epoch 7/20\n",
      "12500/12500 [==============================] - 6s 451us/step - loss: 3.4253e-07\n",
      "Epoch 8/20\n",
      "12500/12500 [==============================] - 6s 446us/step - loss: 3.2087e-07\n",
      "Epoch 9/20\n",
      "12500/12500 [==============================] - 6s 449us/step - loss: 3.1338e-07\n",
      "Epoch 10/20\n",
      "12500/12500 [==============================] - 6s 449us/step - loss: 3.0869e-07\n",
      "Epoch 11/20\n",
      "12500/12500 [==============================] - 6s 445us/step - loss: 2.9964e-07\n",
      "Epoch 12/20\n",
      "12500/12500 [==============================] - 6s 446us/step - loss: 2.9250e-07\n",
      "Epoch 13/20\n",
      "12500/12500 [==============================] - 6s 444us/step - loss: 2.8551e-07\n",
      "Epoch 14/20\n",
      "12500/12500 [==============================] - 6s 451us/step - loss: 2.7820e-07\n",
      "Epoch 15/20\n",
      "12500/12500 [==============================] - 6s 444us/step - loss: 2.7203e-07\n",
      "Epoch 16/20\n",
      "12500/12500 [==============================] - 6s 449us/step - loss: 2.6543e-07\n",
      "Epoch 17/20\n",
      "12500/12500 [==============================] - 6s 447us/step - loss: 2.6018e-07\n",
      "Epoch 18/20\n",
      "12500/12500 [==============================] - 6s 452us/step - loss: 2.5103e-07\n",
      "Epoch 19/20\n",
      "12500/12500 [==============================] - 6s 446us/step - loss: 2.5636e-07\n",
      "Epoch 20/20\n",
      "12500/12500 [==============================] - 5s 431us/step - loss: 2.4340e-07\n"
     ]
    }
   ],
   "source": [
    "model.fit(xTrain, yTrain, epochs=20)\n",
    "\n",
    "# save training model\n",
    "model.save('./model/pid_model_nn.h5')"
   ]
  },
  {
   "cell_type": "code",
   "execution_count": 8,
   "metadata": {},
   "outputs": [
    {
     "name": "stdout",
     "output_type": "stream",
     "text": [
      "var0 mean squared error: 6.107773733654534e-08\n",
      "var1 mean squared error: 1.142231208189908e-07\n",
      "var2 mean squared error: 2.8935537233454735e-07\n"
     ]
    }
   ],
   "source": [
    "result = model.predict(xTest)\n",
    "for i in range(len(result[0])):\n",
    "    yt = yTest[:, i]\n",
    "    yt_ = result[:, i]\n",
    "    accuracy = mean_squared_error(yt, yt_)\n",
    "    print(f'var{i} mean squared error: {accuracy}')"
   ]
  },
  {
   "cell_type": "code",
   "execution_count": 9,
   "metadata": {},
   "outputs": [
    {
     "name": "stdout",
     "output_type": "stream",
     "text": [
      "0 1 2 3 4 5 6 7 8 9 "
     ]
    }
   ],
   "source": [
    "motor = Motor()\n",
    "# pid variables\n",
    "pid_pre_error = 0\n",
    "pid_error_sum = 0\n",
    "modelResponse = []\n",
    "xTimeLen = 10\n",
    "\n",
    "for i in range(xTimeLen):\n",
    "    target = steps[i]\n",
    "    targetR = target * math.pi / 180\n",
    "    print(f'{i} ', end='')\n",
    "    for millisecond in range(1000):\n",
    "        inputData = []\n",
    "        outputData = []\n",
    "        \n",
    "        # get the angle of the motor\n",
    "        theta = motor.getRad()\n",
    "        \n",
    "        # input data\n",
    "        inputData += [targetR - theta]\n",
    "        inputData += [pid_pre_error]\n",
    "        inputData += [pid_error_sum]\n",
    "        _input = [inputData]\n",
    "        _input = scalar_x.transform(_input)\n",
    "        \n",
    "        # pid model\n",
    "        modelOutputNorm = model.predict(_input)\n",
    "        modelOutput = scalar_y.inverse_transform(modelOutputNorm)\n",
    "        \n",
    "        # update model\n",
    "        motor.update(modelOutput[0][0])\n",
    "        pid_pre_error = modelOutput[0][1]\n",
    "        pid_error_sum = modelOutput[0][2]\n",
    "        \n",
    "        modelResponse += [theta]"
   ]
  },
  {
   "cell_type": "code",
   "execution_count": 10,
   "metadata": {},
   "outputs": [
    {
     "data": {
      "image/png": "[encoded data removed]",
      "text/plain": [
       "<Figure size 432x288 with 1 Axes>"
      ]
     },
     "metadata": {
      "needs_background": "light"
     },
     "output_type": "display_data"
    }
   ],
   "source": [
    "# draw graph\n",
    "mTime = xTimeLen * 1000\n",
    "plt.plot(xTime[: mTime], xTarget[: mTime], color='r', label='target')\n",
    "plt.plot(xTime[: mTime], xResponse[: mTime], color='b', label='pid response')\n",
    "plt.plot(xTime[: mTime], modelResponse[: mTime], color='g', label='model response')\n",
    "plt.xlim(0, xTimeLen)\n",
    "plt.title('step response')\n",
    "plt.ylabel('degree')\n",
    "plt.xlabel('time (second)')\n",
    "plt.show()"
   ]
  },
  {
   "cell_type": "code",
   "execution_count": 11,
   "metadata": {},
   "outputs": [
    {
     "data": {
      "text/plain": [
       "1.5178805336968149"
      ]
     },
     "execution_count": 11,
     "metadata": {},
     "output_type": "execute_result"
    }
   ],
   "source": [
    "modelResponse[1000 * 9]\n"
   ]
  },
  {
   "cell_type": "code",
   "execution_count": 12,
   "metadata": {},
   "outputs": [],
   "source": [
    "fileName = './data/nn-MinMaxScalar.csv'\n",
    "f = open(fileName, 'w')\n",
    "for i in range(mTime):\n",
    "    f.write(f'{xTime[i]}\\t{xTarget[i]}\\t{xResponse[i]}\\n')"
   ]
  },
  {
   "cell_type": "code",
   "execution_count": 13,
   "metadata": {},
   "outputs": [],
   "source": [
    "model.save('./model/nn-MinMaxScalar.h5')"
   ]
  }
 ],
 "metadata": {
  "kernelspec": {
   "display_name": "Python 3",
   "language": "python",
   "name": "python3"
  },
  "language_info": {
   "codemirror_mode": {
    "name": "ipython",
    "version": 3
   },
   "file_extension": ".py",
   "mimetype": "text/x-python",
   "name": "python",
   "nbconvert_exporter": "python",
   "pygments_lexer": "ipython3",
   "version": "3.8.10"
  }
 },
 "nbformat": 4,
 "nbformat_minor": 2
}
